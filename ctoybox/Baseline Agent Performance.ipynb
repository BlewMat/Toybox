{
 "cells": [
  {
   "cell_type": "code",
   "execution_count": 4,
   "metadata": {},
   "outputs": [
    {
     "name": "stdout",
     "output_type": "stream",
     "text": [
      "<function std at 0x114bff840>\n"
     ]
    }
   ],
   "source": [
    "import numpy as np\n",
    "print(np.std)"
   ]
  },
  {
   "cell_type": "code",
   "execution_count": 5,
   "metadata": {},
   "outputs": [
    {
     "name": "stdout",
     "output_type": "stream",
     "text": [
      "407.26666666666665\n",
      "85.6749412346198\n"
     ]
    }
   ],
   "source": [
    "scores1e7 = []\n",
    "with open('/tmp/1e7', 'r') as f:\n",
    "    for line in f.readlines():\n",
    "        scores1e7.append(eval(line.split(':')[-1]))\n",
    "print(np.average(scores1e7))\n",
    "print(np.std(scores1e7))"
   ]
  },
  {
   "cell_type": "code",
   "execution_count": 7,
   "metadata": {},
   "outputs": [
    {
     "name": "stdout",
     "output_type": "stream",
     "text": [
      "777.4333333333333\n",
      "154.4572612587558\n"
     ]
    }
   ],
   "source": [
    "scores5e7 = []\n",
    "with open('/tmp/5e7', 'r') as f:\n",
    "    for line in f.readlines():\n",
    "        scores5e7.append(eval(line.split(':')[-1]))\n",
    "print(np.average(scores5e7))\n",
    "print(np.std(scores5e7))"
   ]
  },
  {
   "cell_type": "code",
   "execution_count": null,
   "metadata": {},
   "outputs": [],
   "source": []
  }
 ],
 "metadata": {
  "kernelspec": {
   "display_name": "Python 3",
   "language": "python",
   "name": "python3"
  },
  "language_info": {
   "codemirror_mode": {
    "name": "ipython",
    "version": 3
   },
   "file_extension": ".py",
   "mimetype": "text/x-python",
   "name": "python",
   "nbconvert_exporter": "python",
   "pygments_lexer": "ipython3",
   "version": "3.5.5"
  }
 },
 "nbformat": 4,
 "nbformat_minor": 2
}
